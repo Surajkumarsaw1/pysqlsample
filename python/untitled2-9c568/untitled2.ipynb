{
 "cells": [
  {
   "cell_type": "code",
   "execution_count": 1,
   "metadata": {},
   "outputs": [],
   "source": [
    "# For windows users\n",
    "!pip install jovian -q"
   ]
  },
  {
   "cell_type": "code",
   "execution_count": 2,
   "metadata": {},
   "outputs": [],
   "source": [
    "# For linux users\n",
    "!pip3 install jovian -q"
   ]
  },
  {
   "cell_type": "markdown",
   "metadata": {},
   "source": [
    "# Data Handling"
   ]
  },
  {
   "cell_type": "markdown",
   "metadata": {},
   "source": [
    "## 1. Create a pandas series from a dictionary of values and an ndarray\n"
   ]
  },
  {
   "cell_type": "code",
   "execution_count": 3,
   "metadata": {},
   "outputs": [
    {
     "name": "stdout",
     "output_type": "stream",
     "text": [
      "Dictionary is  {'Aniket': 78, 'Aryan': 73, 'Suraj': 90}\n",
      "Series created for dictionary is :\n",
      "Aniket    78\n",
      "Aryan     73\n",
      "Suraj     90\n",
      "dtype: int64\n",
      "Array is  [0 1 2 3]\n",
      "Series created from array is :\n",
      "A    0\n",
      "B    1\n",
      "C    2\n",
      "D    3\n",
      "dtype: int64\n"
     ]
    }
   ],
   "source": [
    "import numpy as np\n",
    "import pandas as pd\n",
    "\n",
    "students = {\"Aniket\":78, \"Aryan\":73, \"Suraj\":90}\n",
    "print(\"Dictionary is \",students)\n",
    "series = pd.Series(students)\n",
    "print(\"Series created for dictionary is :\")\n",
    "print(series)\n",
    "\n",
    "#print(series[\"Aryan\"])\n",
    "\n",
    "arr = np.arange(4)\n",
    "print(\"Array is \",arr)\n",
    "series2 = pd.Series(arr, index=['A','B','C','D'])\n",
    "print(\"Series created from array is :\")\n",
    "print(series2)\n"
   ]
  },
  {
   "cell_type": "markdown",
   "metadata": {},
   "source": [
    "## 2. Given a Series, print all the elements that are above the 75th percentile.\n"
   ]
  },
  {
   "cell_type": "code",
   "execution_count": 4,
   "metadata": {},
   "outputs": [
    {
     "name": "stdout",
     "output_type": "stream",
     "text": [
      "75th Percentile is  10.5\n",
      "Values in series greater than 75th percentile are :\n",
      "12\n",
      "21\n"
     ]
    }
   ],
   "source": [
    "import pandas as pd \n",
    "test = pd.Series([2,4,5,7,9,12,21])\n",
    "percentile = test.quantile(.75)\n",
    "print(\"75th Percentile is \",percentile)\n",
    "print(\"Values in series greater than 75th percentile are :\")\n",
    "for x in range(len(test)):\n",
    "    if test[x] > percentile:\n",
    "        print(test[x])"
   ]
  },
  {
   "cell_type": "markdown",
   "metadata": {},
   "source": [
    "## 3. Create a Data Frame quarterly sales where each row contains the item category, item name, and expenditure. Group the rows by the category, and print the total expenditure per category.\n"
   ]
  },
  {
   "cell_type": "code",
   "execution_count": 5,
   "metadata": {},
   "outputs": [
    {
     "name": "stdout",
     "output_type": "stream",
     "text": [
      "  Items Category  Items Name  Expenditure\n",
      "0     Cold Drink        Coke           35\n",
      "1          Chips        Lays           20\n",
      "2      Chocolate  Dairy Milk           40\n",
      "3          Chips     Kurkure           20\n",
      "4     Cold Drink       Fanta           65\n",
      "Items Category\n",
      "Chips          40\n",
      "Chocolate      40\n",
      "Cold Drink    100\n",
      "Name: Expenditure, dtype: int64\n"
     ]
    }
   ],
   "source": [
    "import pandas as pd \n",
    "quarterly_sales={\"Items Category\":\n",
    "[\"Cold Drink\",\"Chips\",\"Chocolate\",\"Chips\",\"Cold Drink\"],\n",
    "\"Items Name\":\n",
    "[\"Coke\",\"Lays\",\"Dairy Milk\",\"Kurkure\",\"Fanta\"],\n",
    "\"Expenditure\":\n",
    "[35,20,40,20,65]}\n",
    "\n",
    "df_sales = pd.DataFrame(quarterly_sales)\n",
    "print(df_sales)\n",
    "print(df_sales.groupby(\"Items Category\")[\"Expenditure\"]\n",
    "      .sum())"
   ]
  },
  {
   "cell_type": "markdown",
   "metadata": {},
   "source": [
    "## 4. Create a data frame based on ecommerce data and generate descriptive statistics (mean, median, mode, quartile, and variance)"
   ]
  },
  {
   "cell_type": "code",
   "execution_count": 6,
   "metadata": {},
   "outputs": [
    {
     "name": "stdout",
     "output_type": "stream",
     "text": [
      "  Product Name   Cost  Quantity\n",
      "0          Fan   4000         2\n",
      "1        Phone  23000         1\n",
      "2         Book    500         8\n",
      "3        Watch  12000         4\n",
      "               Cost  Quantity\n",
      "count      4.000000  4.000000\n",
      "mean    9875.000000  3.750000\n",
      "std     9986.449152  3.095696\n",
      "min      500.000000  1.000000\n",
      "25%     3125.000000  1.750000\n",
      "50%     8000.000000  3.000000\n",
      "75%    14750.000000  5.000000\n",
      "max    23000.000000  8.000000\n"
     ]
    }
   ],
   "source": [
    "import pandas as pd \n",
    "data = dict()\n",
    "data[\"Product Name\"]=[\"Fan\",\"Phone\",\"Book\",\"Watch\"]\n",
    "data[\"Cost\"]=[4000,23000,500,12000]\n",
    "data[\"Quantity\"] = [2,1,8,4]\n",
    "data_ecommerce = pd.DataFrame(data)\n",
    "print(data_ecommerce)\n",
    "print(data_ecommerce.describe())"
   ]
  },
  {
   "cell_type": "markdown",
   "metadata": {},
   "source": [
    "## 5. Create a data frame for examination result and display row labels, column labels data types of each column and the dimensions\n"
   ]
  },
  {
   "cell_type": "code",
   "execution_count": 7,
   "metadata": {},
   "outputs": [
    {
     "name": "stdout",
     "output_type": "stream",
     "text": [
      "   Admno   Name  Total  Percentage Grade\n",
      "A   1234  Ankit    460        92.0    A+\n",
      "B   1235  Payal    400        80.0     A\n",
      "C   1236  Charu    385        77.0     B\n",
      "D   1237  Aryan    462        92.4    A+\n",
      "E   1238  Kajal    280        56.0     C\n",
      "Columns Labels are\n",
      "Index(['Admno', 'Name', 'Total', 'Percentage', 'Grade'], dtype='object')\n",
      "Row Labels are\n",
      "['A' 'B' 'C' 'D' 'E']\n",
      "Data Type of Columns are \n",
      "Admno           int64\n",
      "Name           object\n",
      "Total           int64\n",
      "Percentage    float64\n",
      "Grade          object\n",
      "dtype: object\n",
      "Dimentions of DataFrame are \n",
      "(5, 5)\n"
     ]
    }
   ],
   "source": [
    "import pandas as pd \n",
    "exam_data = [(1234,\"Ankit\",460,92.0,\"A+\"),\n",
    "             (1235,\"Payal\",400,80.0,\"A\"),\n",
    "             (1236,\"Charu\",385,77.0,\"B\"),\n",
    "             (1237,\"Aryan\",462,92.4,\"A+\"),\n",
    "             (1238,\"Kajal\",280,56.0,\"C\")]\n",
    "exam_result = pd.DataFrame(exam_data,\n",
    "                          columns=[\"Admno\",\"Name\",\"Total\",\"Percentage\",\"Grade\"],\n",
    "                          index = [\"A\",\"B\",\"C\",\"D\",\"E\"])\n",
    "print(exam_result)\n",
    "\n",
    "print(\"Columns Labels are\")\n",
    "print(exam_result.columns)\n",
    "print(\"Row Labels are\")\n",
    "print(exam_result.index.values)\n",
    "print(\"Data Type of Columns are \")\n",
    "print(exam_result.dtypes)\n",
    "print(\"Dimentions of DataFrame are \")\n",
    "print(exam_result.shape)\n"
   ]
  },
  {
   "cell_type": "markdown",
   "metadata": {},
   "source": [
    "## 6. Filter out rows based on different criteria such as duplicate rows.\n"
   ]
  },
  {
   "cell_type": "code",
   "execution_count": 8,
   "metadata": {},
   "outputs": [
    {
     "name": "stdout",
     "output_type": "stream",
     "text": [
      "     Name  Age    City\n",
      "0   Akash   20  Mumbai\n",
      "1     Jay   17   Delhi\n",
      "2   Akash   20  Mumbai\n",
      "3  Satyam   30  London\n",
      "4  Satyam   30  London\n",
      "5  Satyam   30  London\n",
      "6     Jay   17   Delhi\n",
      "7   Rahul   20  Mumbai\n",
      "Duplicate Rows are :\n",
      "     Name  Age    City\n",
      "2   Akash   20  Mumbai\n",
      "4  Satyam   30  London\n",
      "5  Satyam   30  London\n",
      "6     Jay   17   Delhi\n",
      "Duplicate as per name :\n",
      "     Name  Age    City\n",
      "2   Akash   20  Mumbai\n",
      "4  Satyam   30  London\n",
      "5  Satyam   30  London\n",
      "6     Jay   17   Delhi\n",
      "Deplicate as per Age and City\n",
      "     Name  Age    City\n",
      "2   Akash   20  Mumbai\n",
      "4  Satyam   30  London\n",
      "5  Satyam   30  London\n",
      "6     Jay   17   Delhi\n",
      "7   Rahul   20  Mumbai\n"
     ]
    }
   ],
   "source": [
    "import pandas as pd\n",
    "students =[('Akash',20,'Mumbai'),\n",
    "           ('Jay',17,'Delhi'),\n",
    "           ('Akash',20,'Mumbai'),\n",
    "           ('Satyam',30,'London'),\n",
    "           ('Satyam',30,'London'),\n",
    "           ('Satyam',30,'London'),\n",
    "           ('Jay',17,'Delhi'),\n",
    "           ('Rahul',20,'Mumbai')]\n",
    "dfobj = pd.DataFrame(students, columns=['Name','Age','City'])\n",
    "print(dfobj)\n",
    "duplicateRowsDF = dfobj[dfobj.duplicated()]\n",
    "print(\"Duplicate Rows are :\")\n",
    "print(duplicateRowsDF)\n",
    "\n",
    "duplicateNames = dfobj[dfobj.duplicated(['Name'])]\n",
    "print(\"Duplicate as per name :\")\n",
    "print(duplicateNames)\n",
    "\n",
    "duplicateAges = dfobj[dfobj.duplicated(['Age', 'City'])]\n",
    "print(\"Deplicate as per Age and City\")\n",
    "print(duplicateAges)"
   ]
  },
  {
   "cell_type": "markdown",
   "metadata": {},
   "source": [
    "## 7. Find the sum of each column, or find the column with the lowest mean.\n"
   ]
  },
  {
   "cell_type": "code",
   "execution_count": 9,
   "metadata": {},
   "outputs": [
    {
     "name": "stdout",
     "output_type": "stream",
     "text": [
      "[(11, 12, 13, 14, 15), (91, 12, 73, 34, 55), (16, 17, 18, 19, 20), (61, 71, 81, 91, 101)]\n",
      "\n",
      "DataFrame :\n",
      "    A   B   C   D    E\n",
      "a  11  12  13  14   15\n",
      "b  91  12  73  34   55\n",
      "c  16  17  18  19   20\n",
      "d  61  71  81  91  101\n",
      "\n",
      "Sum of columns :\n",
      "A    179\n",
      "B    112\n",
      "C    185\n",
      "D    158\n",
      "E    191\n",
      "dtype: int64\n",
      "\n",
      "Mean of columns :\n",
      "A    44.75\n",
      "B    28.00\n",
      "C    46.25\n",
      "D    39.50\n",
      "E    47.75\n",
      "dtype: float64\n",
      "\n",
      "Sorted series :\n",
      "B    28.00\n",
      "D    39.50\n",
      "A    44.75\n",
      "C    46.25\n",
      "E    47.75\n",
      "dtype: float64\n",
      "Minimum mean column\n",
      "B    28.0\n",
      "dtype: float64\n",
      "B    28.0\n",
      "dtype: float64\n"
     ]
    }
   ],
   "source": [
    "import numpy as np\n",
    "import pandas as pd\n",
    "\n",
    "#x = np.random.choice(np.random.randint(1,100,25), size=(4, 5))\n",
    "#print(x) \n",
    "\n",
    "x = [(11,12,13,14,15),\n",
    "     (91,12,73,34,55),\n",
    "     (16,17,18,19,20),\n",
    "     (61,71,81,91,101)]\n",
    "\n",
    "print(x)\n",
    "\n",
    "df = pd.DataFrame(x,columns = [\"A\",\"B\",\"C\",\"D\",\"E\"],\n",
    "                  index = [\"a\",\"b\",\"c\",\"d\"])\n",
    "\n",
    "print('\\nDataFrame :')\n",
    "print(df)\n",
    "\n",
    "print('\\nSum of columns :')\n",
    "print(df.sum(axis = 0))\n",
    "\n",
    "meandf = df.mean(axis = 0)\n",
    "print(\"\\nMean of columns :\")\n",
    "print(meandf)\n",
    "\n",
    "sorted_ser= meandf.sort_values(ascending=True)\n",
    "print('\\nSorted series :')\n",
    "print(sorted_ser)\n",
    "print('Minimum mean column')\n",
    "print(sorted_ser[0:1])\n",
    "\n",
    "var = (df.mean(axis = 0).sort_values(ascending=True)[0:1])\n",
    "print(var)"
   ]
  },
  {
   "cell_type": "markdown",
   "metadata": {},
   "source": [
    "## 8. Locate the 3 largest values in a data frame.\n"
   ]
  },
  {
   "cell_type": "code",
   "execution_count": 10,
   "metadata": {},
   "outputs": [
    {
     "name": "stdout",
     "output_type": "stream",
     "text": [
      "    A   B   C   D\n",
      "0  91  95  65  66\n",
      "1  52  83  46  25\n",
      "2  23  76  94  77\n",
      "3  74  62  27  44\n",
      "0  B    95\n",
      "2  C    94\n",
      "0  A    91\n",
      "dtype: int64\n"
     ]
    },
    {
     "data": {
      "text/plain": [
       "\"\\nprint(df.nlargest(3,['A'])['A'])\\nprint(df.nlargest(3,['B'])['B'])\\nprint(df.nlargest(3,['C'])['C'])\\nprint(df.nlargest(3,['D'])['D'])\\n\\nprint(df.nsmallest(3,['A'])['A'])\\nprint(df.nsmallest(3,['B'])['B'])\\nprint(df.nsmallest(3,['C'])['C'])\\nprint(df.nsmallest(3,['D'])['D'])\\n\\nprint(ser.nsmallest(3))\\n\""
      ]
     },
     "execution_count": 10,
     "metadata": {},
     "output_type": "execute_result"
    }
   ],
   "source": [
    "import pandas as pd \n",
    "data_dictionary = {\n",
    "    'A':[91,52,23,74],\n",
    "    'B':[95,83,76,62],\n",
    "    'C':[65,46,94,27],\n",
    "    'D':[66,25,77,44]}\n",
    "df = pd.DataFrame(data_dictionary)\n",
    "print(df)\n",
    "ser = df.stack()\n",
    "print(ser.nlargest(3))\n",
    "\"\"\"\n",
    "print(df.nlargest(3,['A'])['A'])\n",
    "print(df.nlargest(3,['B'])['B'])\n",
    "print(df.nlargest(3,['C'])['C'])\n",
    "print(df.nlargest(3,['D'])['D'])\n",
    "\n",
    "print(df.nsmallest(3,['A'])['A'])\n",
    "print(df.nsmallest(3,['B'])['B'])\n",
    "print(df.nsmallest(3,['C'])['C'])\n",
    "print(df.nsmallest(3,['D'])['D'])\n",
    "\n",
    "print(ser.nsmallest(3))\n",
    "\"\"\""
   ]
  },
  {
   "cell_type": "markdown",
   "metadata": {},
   "source": [
    "## 9. Subtract the mean of a row from each element of the row in a Data Frame.\n"
   ]
  },
  {
   "cell_type": "code",
   "execution_count": 11,
   "metadata": {},
   "outputs": [
    {
     "name": "stdout",
     "output_type": "stream",
     "text": [
      "    A   B   C   D\n",
      "0  91  95  65  66\n",
      "1  52  83  46  25\n",
      "2  23  76  94  77\n",
      "3  74  62  27  44\n",
      "0    79.25\n",
      "1    51.50\n",
      "2    67.50\n",
      "3    51.75\n",
      "dtype: float64\n",
      "DataFrame after substracting row mean from each element of row :\n",
      "       A      B      C      D\n",
      "0  11.75  15.75 -14.25 -13.25\n",
      "1   0.50  31.50  -5.50 -26.50\n",
      "2 -44.50   8.50  26.50   9.50\n",
      "3  22.25  10.25 -24.75  -7.75\n"
     ]
    }
   ],
   "source": [
    "import pandas as pd \n",
    "data_dict = {\n",
    "    'A':[91,52,23,74],\n",
    "    'B':[95,83,76,62],\n",
    "    'C':[65,46,94,27],\n",
    "    'D':[66,25,77,44]}\n",
    "\n",
    "df = pd.DataFrame(data_dict)\n",
    "print(df)\n",
    "row_mean = df.mean(axis=1)\n",
    "print(row_mean)\n",
    "print(\"DataFrame after substracting row mean from each element of row :\")\n",
    "print(df.subtract(row_mean, axis = 0))\n"
   ]
  },
  {
   "cell_type": "markdown",
   "metadata": {},
   "source": [
    "## 10. Replace all negative values in a data frame with a 0.\n"
   ]
  },
  {
   "cell_type": "code",
   "execution_count": 12,
   "metadata": {},
   "outputs": [
    {
     "name": "stdout",
     "output_type": "stream",
     "text": [
      "   A  B  C  D\n",
      "0  1 -5  5 -6\n",
      "1 -5  8 -4  5\n",
      "2  3 -7 -4  7\n",
      "3 -7  2  2 -4\n",
      "   A  B  C  D\n",
      "0  1  0  5  0\n",
      "1  0  8  0  5\n",
      "2  3  0  0  7\n",
      "3  0  2  2  0\n"
     ]
    }
   ],
   "source": [
    "import pandas as pd \n",
    "data_dict = {\n",
    "    'A':[1,-5,3,-7],\n",
    "    'B':[-5,8,-7,2],\n",
    "    'C':[5,-4,-4,2],\n",
    "    'D':[-6,5,7,-4]}\n",
    "\n",
    "df = pd.DataFrame(data_dict)\n",
    "print(df)\n",
    "df[df<0]=0\n",
    "print(df)"
   ]
  },
  {
   "cell_type": "markdown",
   "metadata": {},
   "source": [
    "## 11. Replace all missing values in a data frame with a 999.\n"
   ]
  },
  {
   "cell_type": "code",
   "execution_count": 13,
   "metadata": {},
   "outputs": [
    {
     "name": "stdout",
     "output_type": "stream",
     "text": [
      "      A     B     C\n",
      "0  10.0  20.0   NaN\n",
      "1  40.0   NaN  60.0\n",
      "2   NaN  50.0  70.0\n",
      "       A      B      C\n",
      "0   10.0   20.0  999.0\n",
      "1   40.0  999.0   60.0\n",
      "2  999.0   50.0   70.0\n"
     ]
    }
   ],
   "source": [
    "import numpy as np\n",
    "import pandas as pd\n",
    "data_dic = {\n",
    "    \"A\":[10,40,np.NaN],\n",
    "    \"B\":[20,np.NaN,50],\n",
    "    \"C\":[np.NaN,60,70]\n",
    "}\n",
    "df = pd.DataFrame(data_dic)\n",
    "print(df)\n",
    "df.fillna(999,inplace=True)\n",
    "print(df)\n",
    "\n",
    "#df1 = df.fillna(999)\n",
    "#print(df1)\n",
    "#df2 = df.replace(np.NaN,999)\n",
    "#print(df2)"
   ]
  },
  {
   "cell_type": "markdown",
   "metadata": {},
   "source": [
    "## 12. Importing and exporting data between pandas and CSV file\n"
   ]
  },
  {
   "cell_type": "code",
   "execution_count": 14,
   "metadata": {},
   "outputs": [
    {
     "name": "stdout",
     "output_type": "stream",
     "text": [
      "      name  marks        city\n",
      "0    harry     92      rampur\n",
      "1    rohan     34     kolkata\n",
      "2   skillf     24    bareilly\n",
      "3  shubham     67  antarctica\n",
      "   Train No.  Speed        City\n",
      "0      17738     92      rampur\n",
      "1      21883    108     kolkata\n",
      "2      17548     24    bareilly\n",
      "3      23173     67  antarctica\n"
     ]
    }
   ],
   "source": [
    "import numpy as np\n",
    "import pandas as pd\n",
    "\n",
    "dict1 = {\n",
    "    \"name\":['harry','rohan','skillf','shubham'],\n",
    "    \"marks\":[92,34,24,67],\n",
    "    \"city\":['rampur','kolkata','bareilly','antarctica']\n",
    "}\n",
    "\n",
    "df = pd.DataFrame(dict1)\n",
    "print(df)\n",
    "\n",
    "df.to_csv('friends.csv')\n",
    "\n",
    "\n",
    "train = {\n",
    "    \"Train No.\":[17738,21883,17548,23173],\n",
    "    \"Speed\":[92,108,24,67],\n",
    "    \"City\":['rampur','kolkata','bareilly','antarctica']\n",
    "}\n",
    "\n",
    "df_harry = pd.DataFrame(train)\n",
    "\n",
    "df_harry.to_csv('trains.csv', index=False)\n",
    "\n",
    "harry = pd.read_csv('trains.csv')\n",
    "\n",
    "print(harry)\n"
   ]
  },
  {
   "cell_type": "markdown",
   "metadata": {},
   "source": [
    "## 13. Importing and exporting data between pandas and MySQL database\n"
   ]
  },
  {
   "cell_type": "code",
   "execution_count": null,
   "metadata": {},
   "outputs": [],
   "source": []
  },
  {
   "cell_type": "markdown",
   "metadata": {},
   "source": [
    "# Visualization\n"
   ]
  },
  {
   "cell_type": "markdown",
   "metadata": {},
   "source": [
    "## 14. Given the school result data, analyse the performance of the students on different parameters, e.g subject wise or class wise.\n"
   ]
  },
  {
   "cell_type": "code",
   "execution_count": null,
   "metadata": {},
   "outputs": [],
   "source": []
  },
  {
   "cell_type": "markdown",
   "metadata": {},
   "source": [
    "## 15. For the Data frames created above, analyze and plot appropriate charts with title and legend.\n"
   ]
  },
  {
   "cell_type": "code",
   "execution_count": null,
   "metadata": {},
   "outputs": [],
   "source": []
  },
  {
   "cell_type": "markdown",
   "metadata": {},
   "source": [
    "## 16. Take data of your interest from an open source (e.g. data.gov.in), aggregate and summarize it. Then plot it using different plotting functions of the Matplotlib library.\n"
   ]
  },
  {
   "cell_type": "code",
   "execution_count": null,
   "metadata": {},
   "outputs": [],
   "source": []
  },
  {
   "cell_type": "markdown",
   "metadata": {},
   "source": [
    "# Project"
   ]
  },
  {
   "cell_type": "raw",
   "metadata": {},
   "source": [
    "import mysql.connector\n",
    "\n",
    "class hotelmanage:\n",
    "    \n",
    "    mydb = mysql.connector.connect(host=\"localhost\",user=\"suraj\",password=\"password\")\n",
    "    \n",
    "    def dbchecker(dbname):\n",
    "        mydb = mysql.connector.connect(host=\"localhost\",user=\"suraj\",password=\"password\")\n",
    "        \n",
    "        dbcreated = False\n",
    "    \n",
    "        dbs = []\n",
    "\n",
    "        mycursor = mydb.cursor()\n",
    "        mycursor.execute(\"SHOW DATABASES\")\n",
    "\n",
    "        for x in mycursor:\n",
    "            #print(x) \n",
    "            dbs.append(x)\n",
    "\n",
    "        for items in dbs:\n",
    "            if dbname in items:\n",
    "                dbcreated = True\n",
    "            else:\n",
    "                if dbcreated == True:\n",
    "                    dbcreated = True\n",
    "                else:\n",
    "                    dbcreated = False\n",
    "    \n",
    "        if dbcreated is True:\n",
    "            return True\n",
    "        else:\n",
    "            return False\n",
    "        \n",
    "    if dbchecker('hotel1') == False:\n",
    "        mycursor = mydb.cursor()\n",
    "        mycursor.execute(\"CREATE DATABASE hotel1\")\n",
    "        print('Database created')\n",
    "    else:\n",
    "        print('Database already exist')\n",
    "    \n",
    "    mydb1 = mysql.connector.connect(host=\"localhost\",user=\"suraj\",password=\"password\", database=\"hotel1\")\n",
    "    def tbchecker(tbname):\n",
    "        \n",
    "        mydb1 = mysql.connector.connect(host=\"localhost\",user=\"suraj\",password=\"password\", database=\"hotel1\")\n",
    "        \n",
    "        tbcreated = False\n",
    "        tbs = []\n",
    "        mycursor = mydb1.cursor()\n",
    "        mycursor.execute(\"SHOW TABLES\")\n",
    "\n",
    "        for x in mycursor:\n",
    "            #print(x) \n",
    "            tbs.append(x)\n",
    "\n",
    "        for items in tbs:\n",
    "            if tbname in items:\n",
    "                tbcreated = True\n",
    "            else:\n",
    "                if tbcreated == True:\n",
    "                    tbcreated = True\n",
    "                else:\n",
    "                    tbcreated = False\n",
    "    \n",
    "        if tbcreated is True:\n",
    "            return True\n",
    "        else:\n",
    "            return False\n",
    "        \n",
    "    if tbchecker('guest') == False:\n",
    "        mycursor = mydb1.cursor()\n",
    "        mycursor.execute(\"CREATE TABLE guest(Personid int NOT NULL AUTO_INCREMENT PRIMARY KEY, name varchar(20) NOT NULL, address varchar(100) NOT NULL, cindate DATE NOT NULL, coutdate DATE NOT NULL)\")\n",
    "        print('Table created')\n",
    "    else:\n",
    "        print('Table already exist')\n",
    " \n",
    "    def __init__(self,rt='',s=0,p=0,r=0,t=0,a=1000,name='',address='',cindate='',coutdate='',rno=1):\n",
    " \n",
    "        print (\"\\n\\n*****WELCOME TO HOTEl DE SUAREZ*****\\n\")\n",
    " \n",
    "        self.rt=rt\n",
    " \n",
    "        self.r=r\n",
    " \n",
    "        self.t=t\n",
    " \n",
    "        self.p=p\n",
    " \n",
    "        self.s=s\n",
    "        self.a=a\n",
    "        self.name=name\n",
    "        self.address=address\n",
    "        self.cindate=cindate\n",
    "        self.coutdate=coutdate\n",
    "        self.rno=rno\n",
    "    def inputdata(self):\n",
    "        self.name=input(\"\\nEnter your Fullname:\")\n",
    "        self.address=input(\"\\nEnter your address:\")\n",
    "        self.cindate=input(\"\\nEnter your check in date:\")\n",
    "        self.coutdate=input(\"\\nEnter your checkout date:\")\n",
    "        print(\"Your room no.:\",self.rno,\"\\n\")\n",
    "        \n",
    "        mydb1 = mysql.connector.connect(host=\"localhost\",user=\"suraj\",password=\"password\", database=\"hotel1\")\n",
    "        mycursor = mydb1.cursor()\n",
    "        sqlform = \"INSERT INTO guest(name, address, cindate, coutdate) values(%s,%s,%s,%s)\"\n",
    "        guest = [self.name, self.address, self.cindate, self.coutdate]\n",
    "        mycursor.execute(sqlform, guest)\n",
    "        mydb1.commit()\n",
    "\n",
    "        \n",
    "    def roomrent(self):#sel1353\n",
    " \n",
    "        print (\"We have the following rooms for you:-\")\n",
    " \n",
    "        print (\"1.  Class A---->4000\")\n",
    " \n",
    "        print (\"2.  Class B---->3000\")\n",
    " \n",
    "        print (\"3.  Class C---->2000\")\n",
    " \n",
    "        print (\"4.  Class D---->1000\")\n",
    " \n",
    "        x=int(input(\"Enter the number of your choice Please->\"))\n",
    " \n",
    "        n=int(input(\"For How Many Nights Did You Stay:\"))\n",
    " \n",
    "        if(x==1):\n",
    " \n",
    "            print (\"you have choose room Class A\")\n",
    " \n",
    "            self.s=4000*n\n",
    " \n",
    "        elif (x==2):\n",
    " \n",
    "            print (\"you have choose room Class B\")\n",
    " \n",
    "            self.s=3000*n\n",
    " \n",
    "        elif (x==3):\n",
    " \n",
    "            print (\"you have choose room Class C\")\n",
    " \n",
    "            self.s=2000*n\n",
    " \n",
    "        elif (x==4):\n",
    "            print (\"you have choose room Class D\")\n",
    " \n",
    "            self.s=1000*n\n",
    " \n",
    "        else:\n",
    " \n",
    "            print (\"please choose a room\")\n",
    " \n",
    "        print (\"your choosen room rent is =\",self.s,\"\\n\")\n",
    " \n",
    "    def foodpurchased(self):\n",
    " \n",
    "        print(\"*****RESTAURANT MENU*****\")\n",
    " \n",
    "        print(\"1.Dessert----->100\",\"2.Drinks----->50\",\"3.Breakfast--->90\",\"4.Lunch---->110\",\"5.Dinner--->150\",\"6.Exit\")\n",
    " \n",
    " \n",
    "        while (1):\n",
    " \n",
    "            c=int(input(\"Enter the number of your choice:\"))\n",
    " \n",
    " \n",
    "            if (c==1):\n",
    "                d=int(input(\"Enter the quantity:\"))\n",
    "                self.r=self.r+100*d\n",
    " \n",
    "            elif (c==2):\n",
    "                 d=int(input(\"Enter the quantity:\"))\n",
    "                 self.r=self.r+50*d\n",
    " \n",
    "            elif (c==3):\n",
    "                 d=int(input(\"Enter the quantity:\"))\n",
    "                 self.r=self.r+90*d\n",
    " \n",
    "            elif (c==4):\n",
    "                 d=int(input(\"Enter the quantity:\"))\n",
    "                 self.r=self.r+110*d\n",
    " \n",
    "            elif (c==5):\n",
    "                 d=int(input(\"Enter the quantity:\"))\n",
    "                 self.r=self.r+150*d\n",
    " \n",
    "            elif (c==6):\n",
    "                break;\n",
    "            else:\n",
    "                print(\"You've Enter an Invalid Key\")\n",
    " \n",
    "        print (\"Total food Cost=Rs\",self.r,\"\\n\")\n",
    " \n",
    " \n",
    " \n",
    "    def display(self):\n",
    "        print (\"******HOTEL BILL******\")\n",
    "        print (\"Customer details:\")\n",
    "        print (\"Customer name:\",self.name)\n",
    "        print (\"Customer address:\",self.address)\n",
    "        print (\"Check in date:\",self.cindate)\n",
    "        print (\"Check out date\",self.coutdate)\n",
    "        print (\"Room no.\",self.rno)\n",
    "        print (\"Your Room rent is:\",self.s)\n",
    "        print (\"Your Food bill is:\",self.r)\n",
    " \n",
    "        self.rt=self.s+self.t+self.p+self.r\n",
    " \n",
    "        print (\"Your sub total Purchased is:\",self.rt)\n",
    "        print (\"Additional Service Charges is\",self.a)\n",
    "        print (\"Your grandtotal Purchased is:\",self.rt+self.a,\"\\n\")\n",
    "        self.rno+=1\n",
    " \n",
    "            \n",
    " \n",
    "        \n",
    " \n",
    "        \n",
    " \n",
    "def main():\n",
    " \n",
    "    a=hotelmanage()\n",
    "    \n",
    " \n",
    "    while (1):\n",
    "        print(\"1.Enter Customer Data\")\n",
    "        \n",
    "        print(\"2.Calculate Room Rent\")\n",
    " \n",
    "        print(\"3.Calculate Food Purchased\")\n",
    " \n",
    "        print(\"4.Show total cost\")\n",
    " \n",
    "        print(\"5.EXIT\")\n",
    " \n",
    "        b=int(input(\"\\nEnter the number of your choice:\"))\n",
    "        if (b==1):\n",
    "            a.inputdata()\n",
    " \n",
    "        if (b==2):\n",
    " \n",
    "            a.roomrent()\n",
    " \n",
    "        if (b==3):\n",
    " \n",
    "            a.foodpurchased()\n",
    " \n",
    "        if (b==4):\n",
    " \n",
    "            a.display()\n",
    " \n",
    "        if (b==5):\n",
    " \n",
    "            quit()\n",
    " \n",
    " \n",
    " \n",
    "main()"
   ]
  }
 ],
 "metadata": {
  "kernelspec": {
   "display_name": "Python 3",
   "language": "python",
   "name": "python3"
  },
  "language_info": {
   "codemirror_mode": {
    "name": "ipython",
    "version": 3
   },
   "file_extension": ".py",
   "mimetype": "text/x-python",
   "name": "python",
   "nbconvert_exporter": "python",
   "pygments_lexer": "ipython3",
   "version": "3.9.1"
  }
 },
 "nbformat": 4,
 "nbformat_minor": 4
}
