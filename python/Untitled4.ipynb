{
 "cells": [
  {
   "cell_type": "markdown",
   "metadata": {},
   "source": [
    "---\n",
    "**NOTE**\n",
    "\n",
    "It works with almost all markdown flavours (the below blank line matters).\n",
    "\n",
    "---\n",
    "    \n",
    "> **_NOTE:_**  The note content.\n",
    "    \n",
    "As Kanye West said:\n",
    "\n",
    "> We're living the future so\n",
    "> the present is our past.\n",
    "    \n",
    "    \n",
    "I think you should use an\n",
    "`<addr>` element here instead."
   ]
  },
  {
   "cell_type": "code",
   "execution_count": null,
   "metadata": {},
   "outputs": [],
   "source": []
  }
 ],
 "metadata": {
  "kernelspec": {
   "display_name": "Python 3",
   "language": "python",
   "name": "python3"
  },
  "language_info": {
   "codemirror_mode": {
    "name": "ipython",
    "version": 3
   },
   "file_extension": ".py",
   "mimetype": "text/x-python",
   "name": "python",
   "nbconvert_exporter": "python",
   "pygments_lexer": "ipython3",
   "version": "3.9.1"
  }
 },
 "nbformat": 4,
 "nbformat_minor": 4
}
