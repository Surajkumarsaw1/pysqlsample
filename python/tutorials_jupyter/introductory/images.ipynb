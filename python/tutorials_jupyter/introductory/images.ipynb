{
  "cells": [
    {
      "cell_type": "code",
      "execution_count": null,
      "metadata": {
        "collapsed": false
      },
      "outputs": [],
      "source": [
        "%matplotlib inline"
      ]
    },
    {
      "cell_type": "markdown",
      "metadata": {},
      "source": [
        "\n# Image tutorial\n\n\nA short tutorial on plotting images with Matplotlib.\n\n\nStartup commands\n===================\n\nFirst, let's start IPython.  It is a most excellent enhancement to the\nstandard Python prompt, and it ties in especially well with\nMatplotlib.  Start IPython either directly at a shell, or with the Jupyter\nNotebook (where IPython as a running kernel).\n\nWith IPython started, we now need to connect to a GUI event loop.  This\ntells IPython where (and how) to display plots.  To connect to a GUI\nloop, execute the **%matplotlib** magic at your IPython prompt.  There's more\ndetail on exactly what this does at `IPython's documentation on GUI\nevent loops\n<https://ipython.readthedocs.io/en/stable/interactive/reference.html#gui-event-loop-support>`_.\n\nIf you're using Jupyter Notebook, the same commands are available, but\npeople commonly use a specific argument to the %matplotlib magic:\n\n.. sourcecode:: ipython\n\n    In [1]: %matplotlib inline\n\nThis turns on inline plotting, where plot graphics will appear in your\nnotebook.  This has important implications for interactivity.  For inline plotting, commands in\ncells below the cell that outputs a plot will not affect the plot.  For example,\nchanging the color map is not possible from cells below the cell that creates a plot.\nHowever, for other backends, such as Qt5, that open a separate window,\ncells below those that create the plot will change the plot - it is a\nlive object in memory.\n\nThis tutorial will use Matplotlib's imperative-style plotting\ninterface, pyplot.  This interface maintains global state, and is very\nuseful for quickly and easily experimenting with various plot\nsettings.  The alternative is the object-oriented interface, which is also\nvery powerful, and generally more suitable for large application\ndevelopment.  If you'd like to learn about the object-oriented\ninterface, a great place to start is our :doc:`Usage guide\n</tutorials/introductory/usage>`.  For now, let's get on\nwith the imperative-style approach:\n"
      ]
    },
    {
      "cell_type": "code",
      "execution_count": null,
      "metadata": {
        "collapsed": false
      },
      "outputs": [],
      "source": [
        "import matplotlib.pyplot as plt\nimport matplotlib.image as mpimg"
      ]
    },
    {
      "cell_type": "markdown",
      "metadata": {},
      "source": [
        "\nImporting image data into Numpy arrays\n======================================\n\nMatplotlib relies on the Pillow_ library to load image data.\n\n\nHere's the image we're going to play with:\n\n![](../../_static/stinkbug.png)\n\n\nIt's a 24-bit RGB PNG image (8 bits for each of R, G, B).  Depending\non where you get your data, the other kinds of image that you'll most\nlikely encounter are RGBA images, which allow for transparency, or\nsingle-channel grayscale (luminosity) images.  You can right click on\nit and choose \"Save image as\" to download it to your computer for the\nrest of this tutorial.\n\nAnd here we go...\n\n"
      ]
    },
    {
      "cell_type": "code",
      "execution_count": null,
      "metadata": {
        "collapsed": false
      },
      "outputs": [],
      "source": [
        "img = mpimg.imread('../../doc/_static/stinkbug.png')\nprint(img)"
      ]
    },
    {
      "cell_type": "markdown",
      "metadata": {},
      "source": [
        "Note the dtype there - float32.  Matplotlib has rescaled the 8 bit\ndata from each channel to floating point data between 0.0 and 1.0.  As\na side note, the only datatype that Pillow can work with is uint8.\nMatplotlib plotting can handle float32 and uint8, but image\nreading/writing for any format other than PNG is limited to uint8\ndata.  Why 8 bits? Most displays can only render 8 bits per channel\nworth of color gradation.  Why can they only render 8 bits/channel?\nBecause that's about all the human eye can see.  More here (from a\nphotography standpoint): `Luminous Landscape bit depth tutorial\n<https://luminous-landscape.com/bit-depth/>`_.\n\nEach inner list represents a pixel.  Here, with an RGB image, there\nare 3 values.  Since it's a black and white image, R, G, and B are all\nsimilar.  An RGBA (where A is alpha, or transparency), has 4 values\nper inner list, and a simple luminance image just has one value (and\nis thus only a 2-D array, not a 3-D array).  For RGB and RGBA images,\nMatplotlib supports float32 and uint8 data types.  For grayscale,\nMatplotlib supports only float32.  If your array data does not meet\none of these descriptions, you need to rescale it.\n\n\nPlotting numpy arrays as images\n===================================\n\nSo, you have your data in a numpy array (either by importing it, or by\ngenerating it).  Let's render it.  In Matplotlib, this is performed\nusing the :func:`~matplotlib.pyplot.imshow` function.  Here we'll grab\nthe plot object.  This object gives you an easy way to manipulate the\nplot from the prompt.\n\n"
      ]
    },
    {
      "cell_type": "code",
      "execution_count": null,
      "metadata": {
        "collapsed": false
      },
      "outputs": [],
      "source": [
        "imgplot = plt.imshow(img)"
      ]
    },
    {
      "cell_type": "markdown",
      "metadata": {},
      "source": [
        "You can also plot any numpy array.\n\n\nApplying pseudocolor schemes to image plots\n-------------------------------------------------\n\nPseudocolor can be a useful tool for enhancing contrast and\nvisualizing your data more easily.  This is especially useful when\nmaking presentations of your data using projectors - their contrast is\ntypically quite poor.\n\nPseudocolor is only relevant to single-channel, grayscale, luminosity\nimages.  We currently have an RGB image.  Since R, G, and B are all\nsimilar (see for yourself above or in your data), we can just pick one\nchannel of our data:\n\n"
      ]
    },
    {
      "cell_type": "code",
      "execution_count": null,
      "metadata": {
        "collapsed": false
      },
      "outputs": [],
      "source": [
        "lum_img = img[:, :, 0]\n\n# This is array slicing.  You can read more in the `Numpy tutorial\n# <https://docs.scipy.org/doc/numpy/user/quickstart.html>`_.\n\nplt.imshow(lum_img)"
      ]
    },
    {
      "cell_type": "markdown",
      "metadata": {},
      "source": [
        "Now, with a luminosity (2D, no color) image, the default colormap (aka lookup table,\nLUT), is applied.  The default is called viridis.  There are plenty of\nothers to choose from.\n\n"
      ]
    },
    {
      "cell_type": "code",
      "execution_count": null,
      "metadata": {
        "collapsed": false
      },
      "outputs": [],
      "source": [
        "plt.imshow(lum_img, cmap=\"hot\")"
      ]
    },
    {
      "cell_type": "markdown",
      "metadata": {},
      "source": [
        "Note that you can also change colormaps on existing plot objects using the\n:meth:`~matplotlib.cm.ScalarMappable.set_cmap` method:\n\n"
      ]
    },
    {
      "cell_type": "code",
      "execution_count": null,
      "metadata": {
        "collapsed": false
      },
      "outputs": [],
      "source": [
        "imgplot = plt.imshow(lum_img)\nimgplot.set_cmap('nipy_spectral')"
      ]
    },
    {
      "cell_type": "markdown",
      "metadata": {},
      "source": [
        "<div class=\"alert alert-info\"><h4>Note</h4><p>However, remember that in the Jupyter Notebook with the inline backend,\n   you can't make changes to plots that have already been rendered.  If you\n   create imgplot here in one cell, you cannot call set_cmap() on it in a later\n   cell and expect the earlier plot to change.  Make sure that you enter these\n   commands together in one cell.  plt commands will not change plots from earlier\n   cells.</p></div>\n\nThere are many other colormap schemes available.  See the `list and\nimages of the colormaps\n<../colors/colormaps.html>`_.\n\n\nColor scale reference\n------------------------\n\nIt's helpful to have an idea of what value a color represents.  We can\ndo that by adding a color bar to your figure:\n\n"
      ]
    },
    {
      "cell_type": "code",
      "execution_count": null,
      "metadata": {
        "collapsed": false
      },
      "outputs": [],
      "source": [
        "imgplot = plt.imshow(lum_img)\nplt.colorbar()"
      ]
    },
    {
      "cell_type": "markdown",
      "metadata": {},
      "source": [
        "\nExamining a specific data range\n---------------------------------\n\nSometimes you want to enhance the contrast in your image, or expand\nthe contrast in a particular region while sacrificing the detail in\ncolors that don't vary much, or don't matter.  A good tool to find\ninteresting regions is the histogram.  To create a histogram of our\nimage data, we use the :func:`~matplotlib.pyplot.hist` function.\n\n"
      ]
    },
    {
      "cell_type": "code",
      "execution_count": null,
      "metadata": {
        "collapsed": false
      },
      "outputs": [],
      "source": [
        "plt.hist(lum_img.ravel(), bins=256, range=(0.0, 1.0), fc='k', ec='k')"
      ]
    },
    {
      "cell_type": "markdown",
      "metadata": {},
      "source": [
        "Most often, the \"interesting\" part of the image is around the peak,\nand you can get extra contrast by clipping the regions above and/or\nbelow the peak.  In our histogram, it looks like there's not much\nuseful information in the high end (not many white things in the\nimage).  Let's adjust the upper limit, so that we effectively \"zoom in\non\" part of the histogram.  We do this by passing the clim argument to\nimshow.  You could also do this by calling the\n:meth:`~matplotlib.cm.ScalarMappable.set_clim` method of the image plot\nobject, but make sure that you do so in the same cell as your plot\ncommand when working with the Jupyter Notebook - it will not change\nplots from earlier cells.\n\nYou can specify the clim in the call to ``plot``.\n\n"
      ]
    },
    {
      "cell_type": "code",
      "execution_count": null,
      "metadata": {
        "collapsed": false
      },
      "outputs": [],
      "source": [
        "imgplot = plt.imshow(lum_img, clim=(0.0, 0.7))"
      ]
    },
    {
      "cell_type": "markdown",
      "metadata": {},
      "source": [
        "You can also specify the clim using the returned object\n\n"
      ]
    },
    {
      "cell_type": "code",
      "execution_count": null,
      "metadata": {
        "collapsed": false
      },
      "outputs": [],
      "source": [
        "fig = plt.figure()\nax = fig.add_subplot(1, 2, 1)\nimgplot = plt.imshow(lum_img)\nax.set_title('Before')\nplt.colorbar(ticks=[0.1, 0.3, 0.5, 0.7], orientation='horizontal')\nax = fig.add_subplot(1, 2, 2)\nimgplot = plt.imshow(lum_img)\nimgplot.set_clim(0.0, 0.7)\nax.set_title('After')\nplt.colorbar(ticks=[0.1, 0.3, 0.5, 0.7], orientation='horizontal')"
      ]
    },
    {
      "cell_type": "markdown",
      "metadata": {},
      "source": [
        "\nArray Interpolation schemes\n---------------------------\n\nInterpolation calculates what the color or value of a pixel \"should\"\nbe, according to different mathematical schemes.  One common place\nthat this happens is when you resize an image.  The number of pixels\nchange, but you want the same information.  Since pixels are discrete,\nthere's missing space.  Interpolation is how you fill that space.\nThis is why your images sometimes come out looking pixelated when you\nblow them up.  The effect is more pronounced when the difference\nbetween the original image and the expanded image is greater.  Let's\ntake our image and shrink it.  We're effectively discarding pixels,\nonly keeping a select few.  Now when we plot it, that data gets blown\nup to the size on your screen.  The old pixels aren't there anymore,\nand the computer has to draw in pixels to fill that space.\n\nWe'll use the Pillow library that we used to load the image also to resize\nthe image.\n\n"
      ]
    },
    {
      "cell_type": "code",
      "execution_count": null,
      "metadata": {
        "collapsed": false
      },
      "outputs": [],
      "source": [
        "from PIL import Image\n\nimg = Image.open('../../doc/_static/stinkbug.png')\nimg.thumbnail((64, 64), Image.ANTIALIAS)  # resizes image in-place\nimgplot = plt.imshow(img)"
      ]
    },
    {
      "cell_type": "markdown",
      "metadata": {},
      "source": [
        "Here we have the default interpolation, bilinear, since we did not\ngive :func:`~matplotlib.pyplot.imshow` any interpolation argument.\n\nLet's try some others. Here's \"nearest\", which does no interpolation.\n\n"
      ]
    },
    {
      "cell_type": "code",
      "execution_count": null,
      "metadata": {
        "collapsed": false
      },
      "outputs": [],
      "source": [
        "imgplot = plt.imshow(img, interpolation=\"nearest\")"
      ]
    },
    {
      "cell_type": "markdown",
      "metadata": {},
      "source": [
        "and bicubic:\n\n"
      ]
    },
    {
      "cell_type": "code",
      "execution_count": null,
      "metadata": {
        "collapsed": false
      },
      "outputs": [],
      "source": [
        "imgplot = plt.imshow(img, interpolation=\"bicubic\")"
      ]
    },
    {
      "cell_type": "markdown",
      "metadata": {},
      "source": [
        "Bicubic interpolation is often used when blowing up photos - people\ntend to prefer blurry over pixelated.\n\n"
      ]
    }
  ],
  "metadata": {
    "kernelspec": {
      "display_name": "Python 3",
      "language": "python",
      "name": "python3"
    },
    "language_info": {
      "codemirror_mode": {
        "name": "ipython",
        "version": 3
      },
      "file_extension": ".py",
      "mimetype": "text/x-python",
      "name": "python",
      "nbconvert_exporter": "python",
      "pygments_lexer": "ipython3",
      "version": "3.8.3"
    }
  },
  "nbformat": 4,
  "nbformat_minor": 0
}