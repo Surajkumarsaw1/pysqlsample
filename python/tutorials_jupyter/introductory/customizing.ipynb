{
  "cells": [
    {
      "cell_type": "code",
      "execution_count": null,
      "metadata": {
        "collapsed": false
      },
      "outputs": [],
      "source": [
        "%matplotlib inline"
      ]
    },
    {
      "cell_type": "markdown",
      "metadata": {},
      "source": [
        "\nCustomizing Matplotlib with style sheets and rcParams\n=====================================================\n\nTips for customizing the properties and default styles of Matplotlib.\n\nUsing style sheets\n------------------\n\nThe :mod:`.style` package adds support for easy-to-switch plotting\n\"styles\" with the same parameters as a `matplotlib rc\n<customizing-with-matplotlibrc-files>` file (which is read at startup to\nconfigure Matplotlib).\n\nThere are a number of pre-defined styles `provided by Matplotlib`_. For\nexample, there's a pre-defined style called \"ggplot\", which emulates the\naesthetics of ggplot_ (a popular plotting package for R_). To use this style,\njust add:\n"
      ]
    },
    {
      "cell_type": "code",
      "execution_count": null,
      "metadata": {
        "collapsed": false
      },
      "outputs": [],
      "source": [
        "import numpy as np\nimport matplotlib.pyplot as plt\nimport matplotlib as mpl\nfrom cycler import cycler\nplt.style.use('ggplot')\ndata = np.random.randn(50)"
      ]
    },
    {
      "cell_type": "markdown",
      "metadata": {},
      "source": [
        "To list all available styles, use:\n\n"
      ]
    },
    {
      "cell_type": "code",
      "execution_count": null,
      "metadata": {
        "collapsed": false
      },
      "outputs": [],
      "source": [
        "print(plt.style.available)"
      ]
    },
    {
      "cell_type": "markdown",
      "metadata": {},
      "source": [
        "Defining your own style\n-----------------------\n\nYou can create custom styles and use them by calling `.style.use` with\nthe path or URL to the style sheet.\n\nFor example, you might want to create\n``./images/presentation.mplstyle`` with the following::\n\n   axes.titlesize : 24\n   axes.labelsize : 20\n   lines.linewidth : 3\n   lines.markersize : 10\n   xtick.labelsize : 16\n   ytick.labelsize : 16\n\nThen, when you want to adapt a plot designed for a paper to one that looks\ngood in a presentation, you can just add::\n\n   >>> import matplotlib.pyplot as plt\n   >>> plt.style.use('./images/presentation.mplstyle')\n\nAlternatively, you can make your style known to Matplotlib by placing\nyour ``<style-name>.mplstyle`` file into ``mpl_configdir/stylelib``.  You\ncan then load your custom style sheet with a call to\n``style.use(<style-name>)``.  By default ``mpl_configdir`` should be\n``~/.config/matplotlib``, but you can check where yours is with\n`matplotlib.get_configdir()`; you may need to create this directory. You\nalso can change the directory where Matplotlib looks for the stylelib/\nfolder by setting the :envvar:`MPLCONFIGDIR` environment variable, see\n`locating-matplotlib-config-dir`.\n\nNote that a custom style sheet in ``mpl_configdir/stylelib`` will override a\nstyle sheet defined by Matplotlib if the styles have the same name.\n\nOnce your ``<style-name>.mplstyle`` file is in the appropriate\n``mpl_configdir`` you can specify your style with::\n\n   >>> import matplotlib.pyplot as plt\n   >>> plt.style.use(<style-name>)\n\n\nComposing styles\n----------------\n\nStyle sheets are designed to be composed together. So you can have a style\nsheet that customizes colors and a separate style sheet that alters element\nsizes for presentations. These styles can easily be combined by passing\na list of styles::\n\n   >>> import matplotlib.pyplot as plt\n   >>> plt.style.use(['dark_background', 'presentation'])\n\nNote that styles further to the right will overwrite values that are already\ndefined by styles on the left.\n\n\nTemporary styling\n-----------------\n\nIf you only want to use a style for a specific block of code but don't want\nto change the global styling, the style package provides a context manager\nfor limiting your changes to a specific scope. To isolate your styling\nchanges, you can write something like the following:\n\n"
      ]
    },
    {
      "cell_type": "code",
      "execution_count": null,
      "metadata": {
        "collapsed": false
      },
      "outputs": [],
      "source": [
        "with plt.style.context('dark_background'):\n    plt.plot(np.sin(np.linspace(0, 2 * np.pi)), 'r-o')\nplt.show()"
      ]
    },
    {
      "cell_type": "markdown",
      "metadata": {},
      "source": [
        "\nMatplotlib rcParams\n===================\n\n\nDynamic rc settings\n-------------------\n\nYou can also dynamically change the default rc settings in a python script or\ninteractively from the python shell. All of the rc settings are stored in a\ndictionary-like variable called :data:`matplotlib.rcParams`, which is global to\nthe matplotlib package. rcParams can be modified directly, for example:\n\n"
      ]
    },
    {
      "cell_type": "code",
      "execution_count": null,
      "metadata": {
        "collapsed": false
      },
      "outputs": [],
      "source": [
        "mpl.rcParams['lines.linewidth'] = 2\nmpl.rcParams['lines.linestyle'] = '--'\nplt.plot(data)"
      ]
    },
    {
      "cell_type": "markdown",
      "metadata": {},
      "source": [
        "Note, that in order to change the usual `~.Axes.plot` color you have to\nchange the *prop_cycle* property of *axes*:\n\n"
      ]
    },
    {
      "cell_type": "code",
      "execution_count": null,
      "metadata": {
        "collapsed": false
      },
      "outputs": [],
      "source": [
        "mpl.rcParams['axes.prop_cycle'] = cycler(color=['r', 'g', 'b', 'y'])\nplt.plot(data)  # first color is red"
      ]
    },
    {
      "cell_type": "markdown",
      "metadata": {},
      "source": [
        "Matplotlib also provides a couple of convenience functions for modifying rc\nsettings. `matplotlib.rc` can be used to modify multiple\nsettings in a single group at once, using keyword arguments:\n\n"
      ]
    },
    {
      "cell_type": "code",
      "execution_count": null,
      "metadata": {
        "collapsed": false
      },
      "outputs": [],
      "source": [
        "mpl.rc('lines', linewidth=4, linestyle='-.')\nplt.plot(data)"
      ]
    },
    {
      "cell_type": "markdown",
      "metadata": {},
      "source": [
        "`matplotlib.rcdefaults` will restore the standard Matplotlib\ndefault settings.\n\nThere is some degree of validation when setting the values of rcParams, see\n:mod:`matplotlib.rcsetup` for details.\n\n\nThe :file:`matplotlibrc` file\n-----------------------------\n\nMatplotlib uses :file:`matplotlibrc` configuration files to customize all\nkinds of properties, which we call 'rc settings' or 'rc parameters'. You can\ncontrol the defaults of almost every property in Matplotlib: figure size and\nDPI, line width, color and style, axes, axis and grid properties, text and\nfont properties and so on. When a URL or path is not specified with a call to\n``style.use('<path>/<style-name>.mplstyle')``, Matplotlib looks for\n:file:`matplotlibrc` in four locations, in the following order:\n\n1. :file:`matplotlibrc` in the current working directory, usually used for\n   specific customizations that you do not want to apply elsewhere.\n\n2. :file:`$MATPLOTLIBRC` if it is a file, else\n   :file:`$MATPLOTLIBRC/matplotlibrc`.\n\n3. It next looks in a user-specific place, depending on your platform:\n\n   - On Linux and FreeBSD, it looks in\n     :file:`.config/matplotlib/matplotlibrc` (or\n     :file:`$XDG_CONFIG_HOME/matplotlib/matplotlibrc`) if you've customized\n     your environment.\n\n   - On other platforms, it looks in :file:`.matplotlib/matplotlibrc`.\n\n   See `locating-matplotlib-config-dir`.\n\n4. :file:`{INSTALL}/matplotlib/mpl-data/matplotlibrc`, where\n   :file:`{INSTALL}` is something like\n   :file:`/usr/lib/python3.7/site-packages` on Linux, and maybe\n   :file:`C:\\\\Python37\\\\Lib\\\\site-packages` on Windows. Every time you\n   install matplotlib, this file will be overwritten, so if you want\n   your customizations to be saved, please move this file to your\n   user-specific matplotlib directory.\n\nOnce a :file:`matplotlibrc` file has been found, it will *not* search any of\nthe other paths.\n\nTo display where the currently active :file:`matplotlibrc` file was\nloaded from, one can do the following::\n\n  >>> import matplotlib\n  >>> matplotlib.matplotlib_fname()\n  '/home/foo/.config/matplotlib/matplotlibrc'\n\nSee below for a sample `matplotlibrc file<matplotlibrc-sample>`.\n\n\nA sample matplotlibrc file\n~~~~~~~~~~~~~~~~~~~~~~~~~~\n\n.. literalinclude:: ../../../matplotlibrc.template\n\n\n\n"
      ]
    }
  ],
  "metadata": {
    "kernelspec": {
      "display_name": "Python 3",
      "language": "python",
      "name": "python3"
    },
    "language_info": {
      "codemirror_mode": {
        "name": "ipython",
        "version": 3
      },
      "file_extension": ".py",
      "mimetype": "text/x-python",
      "name": "python",
      "nbconvert_exporter": "python",
      "pygments_lexer": "ipython3",
      "version": "3.8.3"
    }
  },
  "nbformat": 4,
  "nbformat_minor": 0
}