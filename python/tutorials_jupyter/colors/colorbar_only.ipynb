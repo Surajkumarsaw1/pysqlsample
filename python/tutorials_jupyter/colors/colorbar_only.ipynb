{
  "cells": [
    {
      "cell_type": "code",
      "execution_count": null,
      "metadata": {
        "collapsed": false
      },
      "outputs": [],
      "source": [
        "%matplotlib inline"
      ]
    },
    {
      "cell_type": "markdown",
      "metadata": {},
      "source": [
        "\n# Customized Colorbars Tutorial\n\n\nThis tutorial shows how to build and customize standalone colorbars, i.e.\nwithout an attached plot.\n\nCustomized Colorbars\n====================\n\nA `~.Figure.colorbar` needs a \"mappable\" (`matplotlib.cm.ScalarMappable`)\nobject (typically, an image) which indicates the colormap and the norm to be\nused.  In order to create a colorbar without an attached image, one can instead\nuse a `.ScalarMappable` with no associated data.\n\nBasic continuous colorbar\n-------------------------\n\nHere we create a basic continuous colorbar with ticks and labels.\n\nThe arguments to the `~.Figure.colorbar` call are the `.ScalarMappable`\n(constructed using the *norm* and *cmap* arguments), the axes where the\ncolorbar should be drawn, and the colorbar's orientation.\n\nFor more information see the :mod:`~matplotlib.colorbar` API.\n"
      ]
    },
    {
      "cell_type": "code",
      "execution_count": null,
      "metadata": {
        "collapsed": false
      },
      "outputs": [],
      "source": [
        "import matplotlib.pyplot as plt\nimport matplotlib as mpl\n\nfig, ax = plt.subplots(figsize=(6, 1))\nfig.subplots_adjust(bottom=0.5)\n\ncmap = mpl.cm.cool\nnorm = mpl.colors.Normalize(vmin=5, vmax=10)\n\nfig.colorbar(mpl.cm.ScalarMappable(norm=norm, cmap=cmap),\n             cax=ax, orientation='horizontal', label='Some Units')"
      ]
    },
    {
      "cell_type": "markdown",
      "metadata": {},
      "source": [
        "Extended colorbar with continuous colorscale\n--------------------------------------------\n\nThe second example shows how to make a discrete colorbar based on a\ncontinuous cmap. With the \"extend\" keyword argument the appropriate colors\nare chosen to fill the colorspace, including the extensions:\n\n"
      ]
    },
    {
      "cell_type": "code",
      "execution_count": null,
      "metadata": {
        "collapsed": false
      },
      "outputs": [],
      "source": [
        "fig, ax = plt.subplots(figsize=(6, 1))\nfig.subplots_adjust(bottom=0.5)\n\ncmap = mpl.cm.viridis\nbounds = [-1, 2, 5, 7, 12, 15]\nnorm = mpl.colors.BoundaryNorm(bounds, cmap.N, extend='both')\ncb2 = mpl.colorbar.ColorbarBase(ax, cmap=cmap,\n                                norm=norm,\n                                orientation='horizontal')\ncb2.set_label(\"Discrete intervals with extend='both' keyword\")\nfig.show()"
      ]
    },
    {
      "cell_type": "markdown",
      "metadata": {},
      "source": [
        "Discrete intervals colorbar\n---------------------------\n\nThe third example illustrates the use of a\n:class:`~matplotlib.colors.ListedColormap` which generates a colormap from a\nset of listed colors, `.colors.BoundaryNorm` which generates a colormap\nindex based on discrete intervals and extended ends to show the \"over\" and\n\"under\" value colors. Over and under are used to display data outside of the\nnormalized [0, 1] range. Here we pass colors as gray shades as a string\nencoding a float in the 0-1 range.\n\nIf a :class:`~matplotlib.colors.ListedColormap` is used, the length of the\nbounds array must be one greater than the length of the color list. The\nbounds must be monotonically increasing.\n\nThis time we pass additional arguments to\n`~.Figure.colorbar`. For the out-of-range values to display on the colorbar\nwithout using the *extend* keyword with\n`.colors.BoundaryNorm`, we have to use the *extend* keyword argument directly\nin the colorbar call, and supply an additional boundary on each end of the\nrange.  Here we also\nuse the spacing argument to make\nthe length of each colorbar segment proportional to its corresponding\ninterval.\n\n"
      ]
    },
    {
      "cell_type": "code",
      "execution_count": null,
      "metadata": {
        "collapsed": false
      },
      "outputs": [],
      "source": [
        "fig, ax = plt.subplots(figsize=(6, 1))\nfig.subplots_adjust(bottom=0.5)\n\ncmap = mpl.colors.ListedColormap(['red', 'green', 'blue', 'cyan'])\ncmap.set_over('0.25')\ncmap.set_under('0.75')\n\nbounds = [1, 2, 4, 7, 8]\nnorm = mpl.colors.BoundaryNorm(bounds, cmap.N)\nfig.colorbar(\n    mpl.cm.ScalarMappable(cmap=cmap, norm=norm),\n    cax=ax,\n    boundaries=[0] + bounds + [13],  # Adding values for extensions.\n    extend='both',\n    ticks=bounds,\n    spacing='proportional',\n    orientation='horizontal',\n    label='Discrete intervals, some other units',\n)"
      ]
    },
    {
      "cell_type": "markdown",
      "metadata": {},
      "source": [
        "Colorbar with custom extension lengths\n--------------------------------------\n\nHere we illustrate the use of custom length colorbar extensions, on a\ncolorbar with discrete intervals. To make the length of each extension the\nsame as the length of the interior colors, use ``extendfrac='auto'``.\n\n"
      ]
    },
    {
      "cell_type": "code",
      "execution_count": null,
      "metadata": {
        "collapsed": false
      },
      "outputs": [],
      "source": [
        "fig, ax = plt.subplots(figsize=(6, 1))\nfig.subplots_adjust(bottom=0.5)\n\ncmap = mpl.colors.ListedColormap(['royalblue', 'cyan',\n                                  'yellow', 'orange'])\ncmap.set_over('red')\ncmap.set_under('blue')\n\nbounds = [-1.0, -0.5, 0.0, 0.5, 1.0]\nnorm = mpl.colors.BoundaryNorm(bounds, cmap.N)\nfig.colorbar(\n    mpl.cm.ScalarMappable(cmap=cmap, norm=norm),\n    cax=ax,\n    boundaries=[-10] + bounds + [10],\n    extend='both',\n    extendfrac='auto',\n    ticks=bounds,\n    spacing='uniform',\n    orientation='horizontal',\n    label='Custom extension lengths, some other units',\n)\n\nplt.show()"
      ]
    }
  ],
  "metadata": {
    "kernelspec": {
      "display_name": "Python 3",
      "language": "python",
      "name": "python3"
    },
    "language_info": {
      "codemirror_mode": {
        "name": "ipython",
        "version": 3
      },
      "file_extension": ".py",
      "mimetype": "text/x-python",
      "name": "python",
      "nbconvert_exporter": "python",
      "pygments_lexer": "ipython3",
      "version": "3.8.3"
    }
  },
  "nbformat": 4,
  "nbformat_minor": 0
}